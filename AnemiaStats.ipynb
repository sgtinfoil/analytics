{
 "cells": [
  {
   "cell_type": "code",
   "execution_count": 1,
   "id": "42efee32-f4ee-45d5-881e-a6f56205540a",
   "metadata": {},
   "outputs": [
    {
     "name": "stdout",
     "output_type": "stream",
     "text": [
      "Dataset URL: https://www.kaggle.com/datasets/humairmunir/anaemia-prediction\n",
      "License(s): Apache 2.0\n",
      "output.csv: Skipping, found more recently modified local copy (use --force to force download)\n"
     ]
    }
   ],
   "source": [
    "import kaggle\n",
    "!kaggle datasets download humairmunir/anaemia-prediction -f output.csv"
   ]
  },
  {
   "cell_type": "code",
   "execution_count": 2,
   "id": "b5d4fcae-c0d1-4fd3-a4aa-fcb6845dbb6f",
   "metadata": {},
   "outputs": [],
   "source": [
    "import pandas as pd\n",
    "import matplotlib\n",
    "import matplotlib.pyplot as plt\n",
    "import statistics as stat\n",
    "import numpy as np\n",
    "import scipy as scp\n",
    "from scipy.stats import shapiro, levene\n",
    "from scipy.stats import ttest_ind"
   ]
  },
  {
   "cell_type": "code",
   "execution_count": 3,
   "id": "978762e3-d5a1-41a6-beba-c7104bee89e3",
   "metadata": {},
   "outputs": [
    {
     "data": {
      "text/html": [
       "<div>\n",
       "<style scoped>\n",
       "    .dataframe tbody tr th:only-of-type {\n",
       "        vertical-align: middle;\n",
       "    }\n",
       "\n",
       "    .dataframe tbody tr th {\n",
       "        vertical-align: top;\n",
       "    }\n",
       "\n",
       "    .dataframe thead th {\n",
       "        text-align: right;\n",
       "    }\n",
       "</style>\n",
       "<table border=\"1\" class=\"dataframe\">\n",
       "  <thead>\n",
       "    <tr style=\"text-align: right;\">\n",
       "      <th></th>\n",
       "      <th>Number</th>\n",
       "      <th>Sex</th>\n",
       "      <th>%Red Pixel</th>\n",
       "      <th>%Green pixel</th>\n",
       "      <th>%Blue pixel</th>\n",
       "      <th>Hb</th>\n",
       "      <th>Anaemic</th>\n",
       "    </tr>\n",
       "  </thead>\n",
       "  <tbody>\n",
       "    <tr>\n",
       "      <th>0</th>\n",
       "      <td>1</td>\n",
       "      <td>M</td>\n",
       "      <td>43.2555</td>\n",
       "      <td>30.8421</td>\n",
       "      <td>25.9025</td>\n",
       "      <td>6.3</td>\n",
       "      <td>Yes</td>\n",
       "    </tr>\n",
       "    <tr>\n",
       "      <th>1</th>\n",
       "      <td>2</td>\n",
       "      <td>F</td>\n",
       "      <td>45.6033</td>\n",
       "      <td>28.1900</td>\n",
       "      <td>26.2067</td>\n",
       "      <td>13.5</td>\n",
       "      <td>No</td>\n",
       "    </tr>\n",
       "    <tr>\n",
       "      <th>2</th>\n",
       "      <td>3</td>\n",
       "      <td>F</td>\n",
       "      <td>45.0107</td>\n",
       "      <td>28.9677</td>\n",
       "      <td>26.0215</td>\n",
       "      <td>11.7</td>\n",
       "      <td>No</td>\n",
       "    </tr>\n",
       "    <tr>\n",
       "      <th>3</th>\n",
       "      <td>4</td>\n",
       "      <td>F</td>\n",
       "      <td>44.5398</td>\n",
       "      <td>28.9899</td>\n",
       "      <td>26.4703</td>\n",
       "      <td>13.5</td>\n",
       "      <td>No</td>\n",
       "    </tr>\n",
       "    <tr>\n",
       "      <th>4</th>\n",
       "      <td>5</td>\n",
       "      <td>M</td>\n",
       "      <td>43.2870</td>\n",
       "      <td>30.6972</td>\n",
       "      <td>26.0158</td>\n",
       "      <td>12.4</td>\n",
       "      <td>No</td>\n",
       "    </tr>\n",
       "    <tr>\n",
       "      <th>...</th>\n",
       "      <td>...</td>\n",
       "      <td>...</td>\n",
       "      <td>...</td>\n",
       "      <td>...</td>\n",
       "      <td>...</td>\n",
       "      <td>...</td>\n",
       "      <td>...</td>\n",
       "    </tr>\n",
       "    <tr>\n",
       "      <th>99</th>\n",
       "      <td>100</td>\n",
       "      <td>F</td>\n",
       "      <td>49.9999</td>\n",
       "      <td>29.2860</td>\n",
       "      <td>20.7141</td>\n",
       "      <td>14.5</td>\n",
       "      <td>Yes</td>\n",
       "    </tr>\n",
       "    <tr>\n",
       "      <th>100</th>\n",
       "      <td>101</td>\n",
       "      <td>M</td>\n",
       "      <td>42.2324</td>\n",
       "      <td>30.6757</td>\n",
       "      <td>27.0919</td>\n",
       "      <td>6.3</td>\n",
       "      <td>Yes</td>\n",
       "    </tr>\n",
       "    <tr>\n",
       "      <th>101</th>\n",
       "      <td>102</td>\n",
       "      <td>F</td>\n",
       "      <td>45.6064</td>\n",
       "      <td>31.9084</td>\n",
       "      <td>22.4852</td>\n",
       "      <td>12.7</td>\n",
       "      <td>No</td>\n",
       "    </tr>\n",
       "    <tr>\n",
       "      <th>102</th>\n",
       "      <td>103</td>\n",
       "      <td>M</td>\n",
       "      <td>45.2095</td>\n",
       "      <td>29.2769</td>\n",
       "      <td>25.5136</td>\n",
       "      <td>13.4</td>\n",
       "      <td>No</td>\n",
       "    </tr>\n",
       "    <tr>\n",
       "      <th>103</th>\n",
       "      <td>104</td>\n",
       "      <td>F</td>\n",
       "      <td>43.5706</td>\n",
       "      <td>29.8094</td>\n",
       "      <td>26.6199</td>\n",
       "      <td>12.2</td>\n",
       "      <td>No</td>\n",
       "    </tr>\n",
       "  </tbody>\n",
       "</table>\n",
       "<p>104 rows × 7 columns</p>\n",
       "</div>"
      ],
      "text/plain": [
       "     Number Sex  %Red Pixel  %Green pixel  %Blue pixel    Hb Anaemic\n",
       "0         1   M     43.2555       30.8421      25.9025   6.3     Yes\n",
       "1         2   F     45.6033       28.1900      26.2067  13.5      No\n",
       "2         3  F      45.0107       28.9677      26.0215  11.7      No\n",
       "3         4   F     44.5398       28.9899      26.4703  13.5      No\n",
       "4         5  M      43.2870       30.6972      26.0158  12.4      No\n",
       "..      ...  ..         ...           ...          ...   ...     ...\n",
       "99      100  F      49.9999       29.2860      20.7141  14.5     Yes\n",
       "100     101  M      42.2324       30.6757      27.0919   6.3     Yes\n",
       "101     102   F     45.6064       31.9084      22.4852  12.7      No\n",
       "102     103  M      45.2095       29.2769      25.5136  13.4      No\n",
       "103     104   F     43.5706       29.8094      26.6199  12.2      No\n",
       "\n",
       "[104 rows x 7 columns]"
      ]
     },
     "execution_count": 3,
     "metadata": {},
     "output_type": "execute_result"
    }
   ],
   "source": [
    "data = pd.read_csv('output.csv')\n",
    "data"
   ]
  },
  {
   "cell_type": "code",
   "execution_count": 4,
   "id": "ecfea717-3799-4cb8-9552-2214de568a43",
   "metadata": {},
   "outputs": [
    {
     "data": {
      "text/plain": [
       "Number            int64\n",
       "Sex              object\n",
       "%Red Pixel      float64\n",
       "%Green pixel    float64\n",
       "%Blue pixel     float64\n",
       "Hb              float64\n",
       "Anaemic          object\n",
       "dtype: object"
      ]
     },
     "execution_count": 4,
     "metadata": {},
     "output_type": "execute_result"
    }
   ],
   "source": [
    "data.dtypes"
   ]
  },
  {
   "cell_type": "code",
   "execution_count": 5,
   "id": "685334ad-ef49-4e98-a854-48729b58e1cc",
   "metadata": {},
   "outputs": [],
   "source": [
    "#Cleaning data\n",
    "data.drop(['Number'], axis = 1, inplace = True)\n",
    "data.columns = data.columns.str.lower()\n",
    "data.columns = data.columns.str.replace('%','')\n",
    "data.columns = data.columns.str.replace(' ','_')"
   ]
  },
  {
   "cell_type": "code",
   "execution_count": 6,
   "id": "1b1811c0-cb81-421a-b30a-264ab41fcfe2",
   "metadata": {},
   "outputs": [
    {
     "data": {
      "text/html": [
       "<div>\n",
       "<style scoped>\n",
       "    .dataframe tbody tr th:only-of-type {\n",
       "        vertical-align: middle;\n",
       "    }\n",
       "\n",
       "    .dataframe tbody tr th {\n",
       "        vertical-align: top;\n",
       "    }\n",
       "\n",
       "    .dataframe thead th {\n",
       "        text-align: right;\n",
       "    }\n",
       "</style>\n",
       "<table border=\"1\" class=\"dataframe\">\n",
       "  <thead>\n",
       "    <tr style=\"text-align: right;\">\n",
       "      <th></th>\n",
       "      <th>sex</th>\n",
       "      <th>red_pixel</th>\n",
       "      <th>green_pixel</th>\n",
       "      <th>blue_pixel</th>\n",
       "      <th>hb</th>\n",
       "      <th>anaemic</th>\n",
       "    </tr>\n",
       "  </thead>\n",
       "  <tbody>\n",
       "    <tr>\n",
       "      <th>0</th>\n",
       "      <td>M</td>\n",
       "      <td>43.2555</td>\n",
       "      <td>30.8421</td>\n",
       "      <td>25.9025</td>\n",
       "      <td>6.3</td>\n",
       "      <td>Yes</td>\n",
       "    </tr>\n",
       "    <tr>\n",
       "      <th>1</th>\n",
       "      <td>F</td>\n",
       "      <td>45.6033</td>\n",
       "      <td>28.1900</td>\n",
       "      <td>26.2067</td>\n",
       "      <td>13.5</td>\n",
       "      <td>No</td>\n",
       "    </tr>\n",
       "    <tr>\n",
       "      <th>2</th>\n",
       "      <td>F</td>\n",
       "      <td>45.0107</td>\n",
       "      <td>28.9677</td>\n",
       "      <td>26.0215</td>\n",
       "      <td>11.7</td>\n",
       "      <td>No</td>\n",
       "    </tr>\n",
       "    <tr>\n",
       "      <th>3</th>\n",
       "      <td>F</td>\n",
       "      <td>44.5398</td>\n",
       "      <td>28.9899</td>\n",
       "      <td>26.4703</td>\n",
       "      <td>13.5</td>\n",
       "      <td>No</td>\n",
       "    </tr>\n",
       "    <tr>\n",
       "      <th>4</th>\n",
       "      <td>M</td>\n",
       "      <td>43.2870</td>\n",
       "      <td>30.6972</td>\n",
       "      <td>26.0158</td>\n",
       "      <td>12.4</td>\n",
       "      <td>No</td>\n",
       "    </tr>\n",
       "    <tr>\n",
       "      <th>...</th>\n",
       "      <td>...</td>\n",
       "      <td>...</td>\n",
       "      <td>...</td>\n",
       "      <td>...</td>\n",
       "      <td>...</td>\n",
       "      <td>...</td>\n",
       "    </tr>\n",
       "    <tr>\n",
       "      <th>99</th>\n",
       "      <td>F</td>\n",
       "      <td>49.9999</td>\n",
       "      <td>29.2860</td>\n",
       "      <td>20.7141</td>\n",
       "      <td>14.5</td>\n",
       "      <td>Yes</td>\n",
       "    </tr>\n",
       "    <tr>\n",
       "      <th>100</th>\n",
       "      <td>M</td>\n",
       "      <td>42.2324</td>\n",
       "      <td>30.6757</td>\n",
       "      <td>27.0919</td>\n",
       "      <td>6.3</td>\n",
       "      <td>Yes</td>\n",
       "    </tr>\n",
       "    <tr>\n",
       "      <th>101</th>\n",
       "      <td>F</td>\n",
       "      <td>45.6064</td>\n",
       "      <td>31.9084</td>\n",
       "      <td>22.4852</td>\n",
       "      <td>12.7</td>\n",
       "      <td>No</td>\n",
       "    </tr>\n",
       "    <tr>\n",
       "      <th>102</th>\n",
       "      <td>M</td>\n",
       "      <td>45.2095</td>\n",
       "      <td>29.2769</td>\n",
       "      <td>25.5136</td>\n",
       "      <td>13.4</td>\n",
       "      <td>No</td>\n",
       "    </tr>\n",
       "    <tr>\n",
       "      <th>103</th>\n",
       "      <td>F</td>\n",
       "      <td>43.5706</td>\n",
       "      <td>29.8094</td>\n",
       "      <td>26.6199</td>\n",
       "      <td>12.2</td>\n",
       "      <td>No</td>\n",
       "    </tr>\n",
       "  </tbody>\n",
       "</table>\n",
       "<p>104 rows × 6 columns</p>\n",
       "</div>"
      ],
      "text/plain": [
       "    sex  red_pixel  green_pixel  blue_pixel    hb anaemic\n",
       "0     M    43.2555      30.8421     25.9025   6.3     Yes\n",
       "1     F    45.6033      28.1900     26.2067  13.5      No\n",
       "2    F     45.0107      28.9677     26.0215  11.7      No\n",
       "3     F    44.5398      28.9899     26.4703  13.5      No\n",
       "4    M     43.2870      30.6972     26.0158  12.4      No\n",
       "..   ..        ...          ...         ...   ...     ...\n",
       "99   F     49.9999      29.2860     20.7141  14.5     Yes\n",
       "100  M     42.2324      30.6757     27.0919   6.3     Yes\n",
       "101   F    45.6064      31.9084     22.4852  12.7      No\n",
       "102  M     45.2095      29.2769     25.5136  13.4      No\n",
       "103   F    43.5706      29.8094     26.6199  12.2      No\n",
       "\n",
       "[104 rows x 6 columns]"
      ]
     },
     "execution_count": 6,
     "metadata": {},
     "output_type": "execute_result"
    }
   ],
   "source": [
    "data"
   ]
  },
  {
   "cell_type": "code",
   "execution_count": 7,
   "id": "209342a0-6a38-485e-bc9b-f262d01d6a06",
   "metadata": {},
   "outputs": [
    {
     "data": {
      "text/plain": [
       "sex            0\n",
       "red_pixel      0\n",
       "green_pixel    0\n",
       "blue_pixel     0\n",
       "hb             0\n",
       "anaemic        0\n",
       "dtype: int64"
      ]
     },
     "execution_count": 7,
     "metadata": {},
     "output_type": "execute_result"
    }
   ],
   "source": [
    "#quality check\n",
    "data.isna().sum()"
   ]
  },
  {
   "cell_type": "code",
   "execution_count": 8,
   "id": "181ae475-c631-42db-9da0-d4e6cf5a7048",
   "metadata": {},
   "outputs": [
    {
     "data": {
      "text/plain": [
       "np.int64(0)"
      ]
     },
     "execution_count": 8,
     "metadata": {},
     "output_type": "execute_result"
    }
   ],
   "source": [
    "#quality check\n",
    "data.duplicated().sum()"
   ]
  },
  {
   "cell_type": "code",
   "execution_count": 9,
   "id": "7069d11a-6fb6-45e4-903d-35d69c04a32d",
   "metadata": {},
   "outputs": [],
   "source": [
    "#Here we convert our columns to lists for pandas to work with.\n",
    "\n",
    "red_pixel_list = data['red_pixel'].tolist()\n",
    "green_pixel_list = data['green_pixel'].tolist()\n",
    "blue_pixel_list = data['blue_pixel'].tolist()"
   ]
  },
  {
   "cell_type": "code",
   "execution_count": 10,
   "id": "911c78c1-4139-45ea-9ece-5ccf1162888a",
   "metadata": {},
   "outputs": [],
   "source": [
    "#We want a histogram that shows the rates of anemia relative to each color percentage, so we construct the necessary lists here.\n",
    "\n",
    "yes_no_list = data['anaemic'].tolist()\n",
    "\n",
    "red_yes = [red_pixel_list[i] for i in range(len(yes_no_list)) if yes_no_list[i] == \"Yes\"]\n",
    "red_no = [red_pixel_list[i] for i in range(len(yes_no_list)) if yes_no_list[i] == \"No\"]\n",
    "\n",
    "green_yes = [green_pixel_list[i] for i in range(len(yes_no_list)) if yes_no_list[i] == \"Yes\"]\n",
    "green_no = [green_pixel_list[i] for i in range(len(yes_no_list)) if yes_no_list[i] == \"No\"]\n",
    "\n",
    "blue_yes = [blue_pixel_list[i] for i in range(len(yes_no_list)) if yes_no_list[i] == \"Yes\"]\n",
    "blue_no = [blue_pixel_list[i] for i in range(len(yes_no_list)) if yes_no_list[i] == \"No\"]"
   ]
  },
  {
   "cell_type": "code",
   "execution_count": 11,
   "id": "fdf5464a-8f8e-4fab-9f69-cb52d57371f5",
   "metadata": {},
   "outputs": [
    {
     "data": {
      "image/png": "[encoded data removed]",
      "text/plain": [
       "<Figure size 2000x400 with 3 Axes>"
      ]
     },
     "metadata": {},
     "output_type": "display_data"
    }
   ],
   "source": [
    "#We now create our histogram using the lists created.\n",
    "\n",
    "fig, axs = plt.subplots(1, 3, figsize=(20, 4))\n",
    "\n",
    "# Plot the histograms on separate subplots with transparency\n",
    "axs[0].hist(red_no, bins=25, range=(39, 55), density=False, alpha=0.5, color='red', label='Not Anemic', edgecolor='black', linewidth=1.2)\n",
    "axs[0].hist(red_yes, bins=25, range=(39, 55), density=False, alpha=0.5, color='black', label='Anemic', edgecolor='black', linewidth=1.2)\n",
    "axs[0].set_title('Red Pixel Percentage Distribution')\n",
    "axs[0].set_xlabel('Red Pixel Percentage %')\n",
    "axs[0].legend()\n",
    "\n",
    "axs[1].hist(green_no, bins=25, range=(25, 34), density=False, alpha=0.5, color='green', label='Not Anemic', edgecolor='black', linewidth=1.2)\n",
    "axs[1].hist(green_yes, bins=25, range=(25, 34), density=False, alpha=0.5, color='black', label='Anemic', edgecolor='black', linewidth=1.2)\n",
    "axs[1].set_title('Green Pixel Percentage Distribution')\n",
    "axs[1].set_xlabel('Green Pixel Percentage %')\n",
    "axs[1].legend()\n",
    "\n",
    "axs[2].hist(blue_no, bins=25, range=(18, 30), density=False, alpha=0.5, color='blue', label='Not Anemic', edgecolor='black', linewidth=1.2)\n",
    "axs[2].hist(blue_yes, bins=25, range=(18, 30), density=False, alpha=0.5, color='black', label='Anemic', edgecolor='black', linewidth=1.2)\n",
    "axs[2].set_title('Blue Pixel Percentage Distribution')\n",
    "axs[2].set_xlabel('Blue Pixel Percentage %')\n",
    "axs[2].legend()\n",
    "\n",
    "plt.show()\n",
    "\n",
    "#Observe that the blue distribution is not striking from a merely visual standpoint. However, it appears that anemic patients have significantly higher \n",
    "#green percentages, and significantly lower red percentages. We will proceed with some inferential statistics to affirm this."
   ]
  },
  {
   "cell_type": "code",
   "execution_count": 12,
   "id": "0f51da7f-ee18-4db3-9b26-97369069bbbc",
   "metadata": {},
   "outputs": [
    {
     "name": "stdout",
     "output_type": "stream",
     "text": [
      "30.39308076923077\n",
      "28.369648717948714\n",
      "1.1264500496761425\n",
      "1.335157854643606\n"
     ]
    }
   ],
   "source": [
    "#Here we take the means and standard deviations of green pixel percentages of patients with and without anemia.\n",
    "\n",
    "anemia_green = np.array(green_yes)\n",
    "nonanemic_green = np.array(green_no)\n",
    "\n",
    "mean_gre_anemic = anemia_green.mean()\n",
    "mean_gre_not = nonanemic_green.mean()\n",
    "\n",
    "stdv_anemic_gre = stat.stdev(anemia_green)\n",
    "stdv_nonanemic_gre = stat.stdev(nonanemic_green)\n",
    "\n",
    "print(mean_gre_anemic)\n",
    "print(mean_gre_not)\n",
    "print(stdv_anemic_gre)\n",
    "print(stdv_nonanemic_gre)\n"
   ]
  },
  {
   "cell_type": "code",
   "execution_count": 13,
   "id": "ba689440-04dd-40db-832c-b839b02076bb",
   "metadata": {},
   "outputs": [
    {
     "data": {
      "text/plain": [
       "ShapiroResult(statistic=np.float64(0.9746357693303955), pvalue=np.float64(0.7448000022721138))"
      ]
     },
     "execution_count": 13,
     "metadata": {},
     "output_type": "execute_result"
    }
   ],
   "source": [
    "shapiro_gre_anemic = shapiro(anemia_green)\n",
    "shapiro_gre_anemic\n",
    "#this implies that the green percentages for the anemic population are normally distributed, since p>>.05"
   ]
  },
  {
   "cell_type": "code",
   "execution_count": 14,
   "id": "09b162c4-72e4-44df-bde2-c8b6dc00e86f",
   "metadata": {},
   "outputs": [
    {
     "data": {
      "text/plain": [
       "ShapiroResult(statistic=np.float64(0.9931849579231953), pvalue=np.float64(0.9561568705430448))"
      ]
     },
     "execution_count": 14,
     "metadata": {},
     "output_type": "execute_result"
    }
   ],
   "source": [
    "shapiro_gre_non = shapiro(nonanemic_green)\n",
    "shapiro_gre_non\n",
    "#this implies that the green percentages for the nonanemic population are normally distributed."
   ]
  },
  {
   "cell_type": "code",
   "execution_count": 15,
   "id": "5eeb316c-ef55-4884-b7fb-5dc4f9028ce8",
   "metadata": {},
   "outputs": [
    {
     "data": {
      "text/plain": [
       "(np.float64(6.941936293138544), np.float64(1.8356747458055143e-10))"
      ]
     },
     "execution_count": 15,
     "metadata": {},
     "output_type": "execute_result"
    }
   ],
   "source": [
    "t_stat, p_value = ttest_ind(anemia_green, nonanemic_green, alternative = 'greater')\n",
    "t_stat, p_value\n",
    "#perfect!\n",
    "#Since p<<<.05 and both sets are normal, we conclude that people with anemia have a higher green pixel percentage."
   ]
  },
  {
   "cell_type": "code",
   "execution_count": 16,
   "id": "6de0f33d-db6d-4d1d-83db-a96b893ac090",
   "metadata": {},
   "outputs": [
    {
     "name": "stdout",
     "output_type": "stream",
     "text": [
      "43.93872692307692\n",
      "46.22599102564102\n",
      "2.5542632078245484\n",
      "2.677038984487127\n"
     ]
    }
   ],
   "source": [
    "#Repeat for red.\n",
    "\n",
    "anemia_red = np.array(red_yes)\n",
    "nonanemic_red = np.array(red_no)\n",
    "\n",
    "mean_red_anemic = anemia_red.mean()\n",
    "mean_red_not = nonanemic_red.mean()\n",
    "\n",
    "stdv_anemic_red = stat.stdev(anemia_red)\n",
    "stdv_nonanemic_red = stat.stdev(nonanemic_red)\n",
    "\n",
    "print(mean_red_anemic)\n",
    "print(mean_red_not)\n",
    "print(stdv_anemic_red)\n",
    "print(stdv_nonanemic_red)"
   ]
  },
  {
   "cell_type": "code",
   "execution_count": 17,
   "id": "c4d17f35-4199-4b3a-a333-3d7109051d8d",
   "metadata": {},
   "outputs": [
    {
     "data": {
      "text/plain": [
       "ShapiroResult(statistic=np.float64(0.9601808234524517), pvalue=np.float64(0.3951046215000273))"
      ]
     },
     "execution_count": 17,
     "metadata": {},
     "output_type": "execute_result"
    }
   ],
   "source": [
    "shapiro_red_anemic = shapiro(anemia_red)\n",
    "shapiro_red_anemic\n",
    "#this implies that the red percentages for the anemic population are normally distributed."
   ]
  },
  {
   "cell_type": "code",
   "execution_count": 18,
   "id": "fa815a46-778b-41d5-b47f-5900bd15fb5a",
   "metadata": {},
   "outputs": [
    {
     "data": {
      "text/plain": [
       "ShapiroResult(statistic=np.float64(0.9325554093463249), pvalue=np.float64(0.00047065864472325747))"
      ]
     },
     "execution_count": 18,
     "metadata": {},
     "output_type": "execute_result"
    }
   ],
   "source": [
    "shapiro_red_non = shapiro(nonanemic_red)\n",
    "shapiro_red_non\n",
    "#unfortunately, the result here implies the red percentages for the nonanemic population are not necessarily normally distributed.\n",
    "#on the other hand, we visually observe there may be outliers. "
   ]
  },
  {
   "cell_type": "code",
   "execution_count": 19,
   "id": "30276479-93d8-4938-8cf4-4c71595c769b",
   "metadata": {},
   "outputs": [
    {
     "data": {
      "text/plain": [
       "array([50.3562, 52.9108, 50.4976, 53.9113, 50.4801, 54.6478, 52.154 ,\n",
       "       51.5802])"
      ]
     },
     "execution_count": 19,
     "metadata": {},
     "output_type": "execute_result"
    }
   ],
   "source": [
    "#We can check for the possibility of outliers by filtering the nonanemic red array by a boolean index.\n",
    "outlierstest = nonanemic_red[nonanemic_red > 50]\n",
    "outlierstest"
   ]
  },
  {
   "cell_type": "code",
   "execution_count": 20,
   "id": "4d9b9cae-6c92-4120-af40-68d03a6001fc",
   "metadata": {},
   "outputs": [
    {
     "data": {
      "text/plain": [
       "[array([52.9108, 53.9113, 54.6478, 52.154 ])]"
      ]
     },
     "execution_count": 20,
     "metadata": {},
     "output_type": "execute_result"
    },
    {
     "data": {
      "image/png": "[encoded data removed]",
      "text/plain": [
       "<Figure size 640x480 with 1 Axes>"
      ]
     },
     "metadata": {},
     "output_type": "display_data"
    }
   ],
   "source": [
    "#Now, let's be precise and ensure these are actual outliers by making a boxplot and retrieving data from it.\n",
    "B = plt.boxplot(nonanemic_red)\n",
    "plt.title('Boxplot For Red Pixel Percentages Among Nonanemics')\n",
    "plt.ylabel('Red Pixel Percentage')\n",
    "outliers = [item.get_ydata() for item in B['fliers']]\n",
    "outliers"
   ]
  },
  {
   "cell_type": "code",
   "execution_count": 21,
   "id": "e1a30d48-18cb-4fb6-a4bb-90e501926360",
   "metadata": {},
   "outputs": [],
   "source": [
    "#As we can see, the 4 values above are outliers. Let us remove them and repeat the shapiro test.\n",
    "# Concatenate the arrays of outliers first.\n",
    "outliers = np.concatenate(outliers)\n",
    "\n",
    "# Convert outliers to a set to handle duplicates\n",
    "outliers_set = set(outliers)\n",
    "\n",
    "# Create a new array excluding outliers\n",
    "new_nonanemic_red = np.array([value for value in nonanemic_red if value not in outliers_set])"
   ]
  },
  {
   "cell_type": "code",
   "execution_count": 22,
   "id": "ad9a61c8-64b9-4cc7-ba1c-fc496982eb37",
   "metadata": {},
   "outputs": [
    {
     "data": {
      "text/plain": [
       "ShapiroResult(statistic=np.float64(0.9772492732394025), pvalue=np.float64(0.20236833475028249))"
      ]
     },
     "execution_count": 22,
     "metadata": {},
     "output_type": "execute_result"
    }
   ],
   "source": [
    "#Let us repeat the normality test for the nonanemic red data with outliers removed.\n",
    "new_shapiro_red_non = shapiro(new_nonanemic_red)\n",
    "new_shapiro_red_non\n",
    "#The data is normal!"
   ]
  },
  {
   "cell_type": "code",
   "execution_count": 23,
   "id": "024c9863-ae09-4a1c-9188-02e51f2a30e5",
   "metadata": {},
   "outputs": [
    {
     "data": {
      "text/plain": [
       "(np.float64(-3.710465952265096), np.float64(0.00017168333452023706))"
      ]
     },
     "execution_count": 23,
     "metadata": {},
     "output_type": "execute_result"
    }
   ],
   "source": [
    "t_stat, p_value = ttest_ind(anemia_red, new_nonanemic_red, alternative = 'less')\n",
    "t_stat, p_value\n",
    "#this implies that people with anemia have a lower red pixel percentage.\n"
   ]
  },
  {
   "cell_type": "code",
   "execution_count": 24,
   "id": "ef9f328d-4d88-4eb4-9923-d5c269f54c8d",
   "metadata": {},
   "outputs": [
    {
     "data": {
      "text/plain": [
       "np.float64(30.39308076923077)"
      ]
     },
     "execution_count": 24,
     "metadata": {},
     "output_type": "execute_result"
    }
   ],
   "source": [
    "mean_gre_anemic"
   ]
  },
  {
   "cell_type": "code",
   "execution_count": 25,
   "id": "03ba74a2-1052-4a16-b91f-4d39e738c64e",
   "metadata": {},
   "outputs": [
    {
     "data": {
      "text/plain": [
       "12"
      ]
     },
     "execution_count": 25,
     "metadata": {},
     "output_type": "execute_result"
    }
   ],
   "source": [
    "#return the number of anemics with low green %s vs high green %s\n",
    "\n",
    "threshold = mean_gre_anemic\n",
    "low_green_anemic = [i for i in green_yes if i < threshold]\n",
    "len(low_green_anemic)"
   ]
  },
  {
   "cell_type": "code",
   "execution_count": 26,
   "id": "524f14c6-2139-4db5-b7dd-6429f72363f1",
   "metadata": {},
   "outputs": [
    {
     "data": {
      "text/plain": [
       "14"
      ]
     },
     "execution_count": 26,
     "metadata": {},
     "output_type": "execute_result"
    }
   ],
   "source": [
    "high_green_anemic = [i for i in green_yes if i > threshold]\n",
    "len(high_green_anemic)"
   ]
  },
  {
   "cell_type": "code",
   "execution_count": 27,
   "id": "853027de-0aac-467a-b7e3-3f09ef1d4e80",
   "metadata": {},
   "outputs": [
    {
     "data": {
      "text/plain": [
       "np.float64(43.93872692307692)"
      ]
     },
     "execution_count": 27,
     "metadata": {},
     "output_type": "execute_result"
    }
   ],
   "source": [
    "mean_red_anemic"
   ]
  },
  {
   "cell_type": "code",
   "execution_count": 28,
   "id": "c6f9a7e0-5e93-49f9-9845-c5ad4c185de5",
   "metadata": {},
   "outputs": [
    {
     "data": {
      "text/plain": [
       "14"
      ]
     },
     "execution_count": 28,
     "metadata": {},
     "output_type": "execute_result"
    }
   ],
   "source": [
    "threshold2 = mean_red_anemic\n",
    "low_red_anemic = [i for i in red_yes if i < threshold2]\n",
    "len(low_red_anemic)"
   ]
  },
  {
   "cell_type": "code",
   "execution_count": 29,
   "id": "eb2df05b-1fd9-4db7-8a6b-0f10a693be86",
   "metadata": {},
   "outputs": [
    {
     "data": {
      "text/plain": [
       "12"
      ]
     },
     "execution_count": 29,
     "metadata": {},
     "output_type": "execute_result"
    }
   ],
   "source": [
    "high_red_anemic = [i for i in red_yes if i > threshold2]\n",
    "len(high_red_anemic)"
   ]
  },
  {
   "cell_type": "code",
   "execution_count": 35,
   "id": "f3ffdb7f-48a2-49c1-b4fd-4caa34685037",
   "metadata": {},
   "outputs": [
    {
     "data": {
      "text/plain": [
       "Text(0.5, 1.0, 'Proportions of High vs Low Red Anemics')"
      ]
     },
     "execution_count": 35,
     "metadata": {},
     "output_type": "execute_result"
    },
    {
     "data": {
      "image/png": "[encoded data removed]",
      "text/plain": [
       "<Figure size 1000x1000 with 2 Axes>"
      ]
     },
     "metadata": {},
     "output_type": "display_data"
    }
   ],
   "source": [
    "fig, (ax1,ax2) = plt.subplots(1,2,figsize=(10,10)) #ax1,ax2 refer to your two pies\n",
    "\n",
    "# 1,2 denotes 1 row, 2 columns - if you want to stack vertically, it would be 2,1\n",
    "\n",
    "x_1 = [12, 14]\n",
    "x_2 = [14, 12]\n",
    "\n",
    "labels = ['LG Anemic', 'HG Anemic']\n",
    "colors = plt.get_cmap('Greens')(np.linspace(0.2, 0.7, len(x_1)))\n",
    "ax1.pie(x_1, labels = labels, colors=colors, radius=1, center=(1, 1),\n",
    "       autopct = '%1.1f%%') #plot first pie\n",
    "ax1.set_title('Proportions of High vs Low Green Anemics')\n",
    "\n",
    "\n",
    "labels =  ['LR Anemic', 'HR Anemic']\n",
    "colors2 = plt.get_cmap('Reds')(np.linspace(0.2, 0.7, len(x_2)))\n",
    "ax2.pie(x_2,labels = labels,colors = colors2, radius=1, center=(4, 1), autopct = '%1.1f%%') #plot second pie\n",
    "ax2.set_title('Proportions of High vs Low Red Anemics')"
   ]
  },
  {
   "cell_type": "code",
   "execution_count": null,
   "id": "32775e36-91a0-42fd-96b9-d0a32f1b1215",
   "metadata": {},
   "outputs": [],
   "source": []
  },
  {
   "cell_type": "code",
   "execution_count": null,
   "id": "2cb245ef-a9fb-408a-ade0-958e9cf8b0d1",
   "metadata": {},
   "outputs": [],
   "source": []
  }
 ],
 "metadata": {
  "kernelspec": {
   "display_name": "Python 3 (ipykernel)",
   "language": "python",
   "name": "python3"
  },
  "language_info": {
   "codemirror_mode": {
    "name": "ipython",
    "version": 3
   },
   "file_extension": ".py",
   "mimetype": "text/x-python",
   "name": "python",
   "nbconvert_exporter": "python",
   "pygments_lexer": "ipython3",
   "version": "3.12.4"
  }
 },
 "nbformat": 4,
 "nbformat_minor": 5
}
